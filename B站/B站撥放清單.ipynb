{
 "cells": [
  {
   "cell_type": "code",
   "execution_count": 13,
   "metadata": {},
   "outputs": [],
   "source": [
    "import requests\n",
    "from pprint import pprint\n",
    "import os\n",
    "\n",
    "TARGET_URL ='https://www.bilibili.com/video/BV1zs411h74a/'\n"
   ]
  },
  {
   "cell_type": "markdown",
   "metadata": {},
   "source": [
    "## 將B站的視頻列表轉成csv\n",
    "看看還要肝多久"
   ]
  },
  {
   "cell_type": "code",
   "execution_count": 14,
   "metadata": {},
   "outputs": [],
   "source": [
    "content = requests.get(url=TARGET_URL)\n",
    "text = content.text\n",
    "\n"
   ]
  },
  {
   "cell_type": "code",
   "execution_count": 15,
   "metadata": {},
   "outputs": [],
   "source": [
    "import re\n",
    "import json\n",
    "result = re.findall(r'window.__INITIAL_STATE__=(.*?});',text)\n",
    "\n",
    "# with open('result.txt',mode='w',encoding='utf-8') as f:\n",
    "#     f.write(result[0])\n",
    "json_text = json.loads(result[0])\n"
   ]
  },
  {
   "cell_type": "code",
   "execution_count": 16,
   "metadata": {},
   "outputs": [
    {
     "name": "stdout",
     "output_type": "stream",
     "text": [
      "csv\n",
      "False\n"
     ]
    },
    {
     "ename": "FileNotFoundError",
     "evalue": "[Errno 2] No such file or directory: 'csv\\\\黑马程序员AJAX零基础到精通_整合Git核心内容全套教程.csv'",
     "output_type": "error",
     "traceback": [
      "\u001b[1;31m---------------------------------------------------------------------------\u001b[0m",
      "\u001b[1;31mFileNotFoundError\u001b[0m                         Traceback (most recent call last)",
      "\u001b[1;32md:\\MyProject\\tools\\B站\\B站撥放清單.ipynb Cell 5\u001b[0m in \u001b[0;36m<cell line: 57>\u001b[1;34m()\u001b[0m\n\u001b[0;32m     <a href='vscode-notebook-cell:/d%3A/MyProject/tools/B%E7%AB%99/B%E7%AB%99%E6%92%A5%E6%94%BE%E6%B8%85%E5%96%AE.ipynb#W4sZmlsZQ%3D%3D?line=52'>53</a>\u001b[0m \u001b[39mif\u001b[39;00m os\u001b[39m.\u001b[39mpath\u001b[39m.\u001b[39misdir(os\u001b[39m.\u001b[39mpath\u001b[39m.\u001b[39mdirname(filename)):\n\u001b[0;32m     <a href='vscode-notebook-cell:/d%3A/MyProject/tools/B%E7%AB%99/B%E7%AB%99%E6%92%A5%E6%94%BE%E6%B8%85%E5%96%AE.ipynb#W4sZmlsZQ%3D%3D?line=54'>55</a>\u001b[0m     os\u001b[39m.\u001b[39mmkdir(os\u001b[39m.\u001b[39mpath\u001b[39m.\u001b[39mdirname(filename))\n\u001b[1;32m---> <a href='vscode-notebook-cell:/d%3A/MyProject/tools/B%E7%AB%99/B%E7%AB%99%E6%92%A5%E6%94%BE%E6%B8%85%E5%96%AE.ipynb#W4sZmlsZQ%3D%3D?line=56'>57</a>\u001b[0m \u001b[39mwith\u001b[39;00m \u001b[39mopen\u001b[39;49m(filename,mode\u001b[39m=\u001b[39;49m\u001b[39m'\u001b[39;49m\u001b[39mw\u001b[39;49m\u001b[39m'\u001b[39;49m,encoding\u001b[39m=\u001b[39;49m\u001b[39m'\u001b[39;49m\u001b[39mutf-8-sig\u001b[39;49m\u001b[39m'\u001b[39;49m,newline\u001b[39m=\u001b[39;49m\u001b[39m'\u001b[39;49m\u001b[39m'\u001b[39;49m) \u001b[39mas\u001b[39;00m f:\n\u001b[0;32m     <a href='vscode-notebook-cell:/d%3A/MyProject/tools/B%E7%AB%99/B%E7%AB%99%E6%92%A5%E6%94%BE%E6%B8%85%E5%96%AE.ipynb#W4sZmlsZQ%3D%3D?line=57'>58</a>\u001b[0m     field_name \u001b[39m=\u001b[39m rerange_play_list[\u001b[39m0\u001b[39m]\u001b[39m.\u001b[39mkeys()\n\u001b[0;32m     <a href='vscode-notebook-cell:/d%3A/MyProject/tools/B%E7%AB%99/B%E7%AB%99%E6%92%A5%E6%94%BE%E6%B8%85%E5%96%AE.ipynb#W4sZmlsZQ%3D%3D?line=58'>59</a>\u001b[0m     writer \u001b[39m=\u001b[39m csv\u001b[39m.\u001b[39mDictWriter(f,fieldnames\u001b[39m=\u001b[39mfield_name)\n",
      "\u001b[1;31mFileNotFoundError\u001b[0m: [Errno 2] No such file or directory: 'csv\\\\黑马程序员AJAX零基础到精通_整合Git核心内容全套教程.csv'"
     ]
    }
   ],
   "source": [
    "plays = json_text['videoData']['pages']\n",
    "\n",
    "filename = json_text['videoData']['title'] + '.csv'\n",
    "filename = os.path.join('csv',filename)\n",
    "play_list =[]\n",
    "duration_time = 0\n",
    "each_seconds = []\n",
    "\n",
    "for play in plays:\n",
    "    dic ={}\n",
    "    dic['INDEX'] = play['page']\n",
    "    dic['TITLE'] = play['part']\n",
    "    this_minutes = play['duration']//60\n",
    "    this_seconds = play['duration']%60\n",
    "    dic['PLAY_SECONDS'] = play['duration']\n",
    "    dic['PLAY_TIME'] =  '%dm%ds' %(this_minutes,this_seconds)\n",
    "    each_seconds.append(play['duration'])\n",
    "    duration_time += play['duration']\n",
    "    duration_hours = duration_time//3600\n",
    "    duration_hours_remainder = duration_time%3600\n",
    "    duration_minutes = duration_hours_remainder//60\n",
    "    duration_seconds = duration_hours_remainder % 60\n",
    "    dic['DURATION'] = '%dh%dm%ds' %(duration_hours,duration_minutes,duration_seconds)\n",
    "    dic['URL'] = TARGET_URL.split('/?',maxsplit=1)[0] +'/?p=%s' % play['page']\n",
    "    play_list.append(dic)\n",
    "    enumerate\n",
    "rest_time = duration_time\n",
    "\n",
    "for i,item in enumerate(play_list):\n",
    "    rest_time-= each_seconds[i]\n",
    "    rest_hours = rest_time//3600\n",
    "    rest_hours_reminder = rest_time%3600\n",
    "    rest_minutes = rest_hours_reminder//60\n",
    "    rest_seconds = rest_hours_reminder%60\n",
    "    item['LAST_TIME'] = '%dh%dm%ds' % (rest_hours,rest_minutes,rest_seconds)\n",
    "\n",
    "rerange_play_list =[]    \n",
    "for item in play_list : \n",
    "      \n",
    "    new_item={}\n",
    "    new_item['INDEX'] = item['INDEX']\n",
    "    new_item['TITLE'] = item['TITLE']\n",
    "    new_item['PLAY_SECONDS'] = item['PLAY_SECONDS']\n",
    "    new_item['PLAY_TIME'] = item['PLAY_TIME']\n",
    "    new_item['DURATION'] = item['DURATION']\n",
    "    new_item['LAST_TIME'] = item['LAST_TIME']\n",
    "    new_item['URL'] = item['URL']\n",
    "    rerange_play_list.append(new_item)\n",
    "    \n",
    "\n",
    "import csv\n",
    "if not  os.path.isdir(os.path.dirname(filename)):\n",
    "    \n",
    "    os.mkdir(os.path.dirname(filename))\n",
    "    \n",
    "with open(filename,mode='w',encoding='utf-8-sig',newline='') as f:\n",
    "    field_name = rerange_play_list[0].keys()\n",
    "    writer = csv.DictWriter(f,fieldnames=field_name)\n",
    "    writer.writeheader()\n",
    "    writer.writerows(rerange_play_list)\n",
    "    "
   ]
  }
 ],
 "metadata": {
  "kernelspec": {
   "display_name": "Python 3.10.4 64-bit",
   "language": "python",
   "name": "python3"
  },
  "language_info": {
   "codemirror_mode": {
    "name": "ipython",
    "version": 3
   },
   "file_extension": ".py",
   "mimetype": "text/x-python",
   "name": "python",
   "nbconvert_exporter": "python",
   "pygments_lexer": "ipython3",
   "version": "3.10.4"
  },
  "orig_nbformat": 4,
  "vscode": {
   "interpreter": {
    "hash": "369f2c481f4da34e4445cda3fffd2e751bd1c4d706f27375911949ba6bb62e1c"
   }
  }
 },
 "nbformat": 4,
 "nbformat_minor": 2
}
