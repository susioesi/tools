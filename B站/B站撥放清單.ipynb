{
 "cells": [
  {
   "cell_type": "code",
   "execution_count": 17,
   "metadata": {},
   "outputs": [],
   "source": [
    "import requests\n",
    "from pprint import pprint\n",
    "import os\n",
    "\n",
    "TARGET_URL ='https://www.bilibili.com/video/BV1zs411h74a/'\n"
   ]
  },
  {
   "cell_type": "markdown",
   "metadata": {},
   "source": [
    "## 將B站的視頻列表轉成csv\n",
    "看看還要肝多久"
   ]
  },
  {
   "cell_type": "code",
   "execution_count": 18,
   "metadata": {},
   "outputs": [],
   "source": [
    "content = requests.get(url=TARGET_URL)\n",
    "text = content.text\n",
    "\n"
   ]
  },
  {
   "cell_type": "code",
   "execution_count": 19,
   "metadata": {},
   "outputs": [],
   "source": [
    "import re\n",
    "import json\n",
    "result = re.findall(r'window.__INITIAL_STATE__=(.*?});',text)\n",
    "\n",
    "# with open('result.txt',mode='w',encoding='utf-8') as f:\n",
    "#     f.write(result[0])\n",
    "json_text = json.loads(result[0])\n"
   ]
  },
  {
   "cell_type": "code",
   "execution_count": 20,
   "metadata": {},
   "outputs": [],
   "source": [
    "plays = json_text['videoData']['pages']\n",
    "\n",
    "filename = json_text['videoData']['title'] + '.csv'\n",
    "filename = os.path.join('csv',filename)\n",
    "play_list =[]\n",
    "duration_time = 0\n",
    "each_seconds = []\n",
    "\n",
    "for play in plays:\n",
    "    dic ={}\n",
    "    dic['INDEX'] = play['page']\n",
    "    dic['TITLE'] = play['part']\n",
    "    this_minutes = play['duration']//60\n",
    "    this_seconds = play['duration']%60\n",
    "    dic['PLAY_SECONDS'] = play['duration']\n",
    "    dic['PLAY_TIME'] =  '%dm%ds' %(this_minutes,this_seconds)\n",
    "    each_seconds.append(play['duration'])\n",
    "    duration_time += play['duration']\n",
    "    duration_hours = duration_time//3600\n",
    "    duration_hours_remainder = duration_time%3600\n",
    "    duration_minutes = duration_hours_remainder//60\n",
    "    duration_seconds = duration_hours_remainder % 60\n",
    "    dic['DURATION'] = '%dh%dm%ds' %(duration_hours,duration_minutes,duration_seconds)\n",
    "    dic['URL'] = TARGET_URL.split('/?',maxsplit=1)[0] +'/?p=%s' % play['page']\n",
    "    play_list.append(dic)\n",
    "    enumerate\n",
    "rest_time = duration_time\n",
    "\n",
    "for i,item in enumerate(play_list):\n",
    "    rest_time-= each_seconds[i]\n",
    "    rest_hours = rest_time//3600\n",
    "    rest_hours_reminder = rest_time%3600\n",
    "    rest_minutes = rest_hours_reminder//60\n",
    "    rest_seconds = rest_hours_reminder%60\n",
    "    item['LAST_TIME'] = '%dh%dm%ds' % (rest_hours,rest_minutes,rest_seconds)\n",
    "\n",
    "rerange_play_list =[]    \n",
    "for item in play_list : \n",
    "      \n",
    "    new_item={}\n",
    "    new_item['INDEX'] = item['INDEX']\n",
    "    new_item['TITLE'] = item['TITLE']\n",
    "    new_item['PLAY_SECONDS'] = item['PLAY_SECONDS']\n",
    "    new_item['PLAY_TIME'] = item['PLAY_TIME']\n",
    "    new_item['DURATION'] = item['DURATION']\n",
    "    new_item['LAST_TIME'] = item['LAST_TIME']\n",
    "    new_item['URL'] = item['URL']\n",
    "    rerange_play_list.append(new_item)\n",
    "    \n",
    "\n",
    "import csv\n",
    "if not  os.path.isdir(os.path.dirname(filename)):\n",
    "    \n",
    "    os.mkdir(os.path.dirname(filename))\n",
    "    \n",
    "with open(filename,mode='w',encoding='utf-8-sig',newline='') as f:\n",
    "    field_name = rerange_play_list[0].keys()\n",
    "    writer = csv.DictWriter(f,fieldnames=field_name)\n",
    "    writer.writeheader()\n",
    "    writer.writerows(rerange_play_list)\n",
    "    "
   ]
  }
 ],
 "metadata": {
  "kernelspec": {
   "display_name": "Python 3.10.4 64-bit",
   "language": "python",
   "name": "python3"
  },
  "language_info": {
   "codemirror_mode": {
    "name": "ipython",
    "version": 3
   },
   "file_extension": ".py",
   "mimetype": "text/x-python",
   "name": "python",
   "nbconvert_exporter": "python",
   "pygments_lexer": "ipython3",
   "version": "3.10.4"
  },
  "orig_nbformat": 4,
  "vscode": {
   "interpreter": {
    "hash": "369f2c481f4da34e4445cda3fffd2e751bd1c4d706f27375911949ba6bb62e1c"
   }
  }
 },
 "nbformat": 4,
 "nbformat_minor": 2
}
